{
  "cells": [
    {
      "cell_type": "markdown",
      "id": "1cc24b53",
      "metadata": {
        "id": "1cc24b53"
      },
      "source": [
        "# Creating Arrays"
      ]
    },
    {
      "cell_type": "code",
      "execution_count": null,
      "id": "f5047550",
      "metadata": {
        "id": "f5047550",
        "outputId": "d337fd5b-dce3-400e-d643-9937919f1f5c"
      },
      "outputs": [
        {
          "name": "stdout",
          "output_type": "stream",
          "text": [
            "[3 4 5 6]\n"
          ]
        }
      ],
      "source": [
        "import numpy as np\n",
        "#creating 1d array\n",
        "n1 = np.array([3,4,5,6])\n",
        "print(n1)"
      ]
    },
    {
      "cell_type": "code",
      "execution_count": null,
      "id": "951e1c51",
      "metadata": {
        "id": "951e1c51",
        "outputId": "c9e80dc4-92f9-4d3b-a1a4-dc11f747c4c4"
      },
      "outputs": [
        {
          "name": "stdout",
          "output_type": "stream",
          "text": [
            "[[3 5 6 7]\n",
            " [4 5 6 7]]\n"
          ]
        }
      ],
      "source": [
        "#creating 2d array\n",
        "n2 = np.array([[3,5,6,7],[4,5,6,7]])\n",
        "print(n2)"
      ]
    },
    {
      "cell_type": "code",
      "execution_count": null,
      "id": "3f92fb40",
      "metadata": {
        "id": "3f92fb40",
        "outputId": "ed52369a-5284-4bd3-9989-6712e9ee95e1"
      },
      "outputs": [
        {
          "name": "stdout",
          "output_type": "stream",
          "text": [
            "[[0 0 0 0 0]\n",
            " [0 0 0 0 0]\n",
            " [0 0 0 0 0]]\n"
          ]
        }
      ],
      "source": [
        "#zero filled 2d array\n",
        "n3 = np.zeros([3,5],dtype='int32')\n",
        "print(n3)"
      ]
    },
    {
      "cell_type": "code",
      "execution_count": null,
      "id": "0e9087e3",
      "metadata": {
        "id": "0e9087e3",
        "outputId": "22f395bd-e4c8-4288-bfed-a02b4e288885"
      },
      "outputs": [
        {
          "name": "stdout",
          "output_type": "stream",
          "text": [
            "[[[1 1 1]\n",
            "  [1 1 1]\n",
            "  [1 1 1]]\n",
            "\n",
            " [[1 1 1]\n",
            "  [1 1 1]\n",
            "  [1 1 1]]]\n"
          ]
        }
      ],
      "source": [
        "#array filled with ones\n",
        "n4 = np.ones([2,3,3],dtype='int32')\n",
        "print(n4)"
      ]
    },
    {
      "cell_type": "code",
      "execution_count": null,
      "id": "d5ebf415",
      "metadata": {
        "id": "d5ebf415",
        "outputId": "5053e97b-00a8-4bf9-a2ea-5ac7ffe4db3f"
      },
      "outputs": [
        {
          "name": "stdout",
          "output_type": "stream",
          "text": [
            "[[1.27702224e+232 4.95270032e+223 1.24805535e+243]]\n"
          ]
        }
      ],
      "source": [
        "#empty array - contain random junk values\n",
        "n5 = np.empty([1,3])\n",
        "print(n5)"
      ]
    },
    {
      "cell_type": "code",
      "execution_count": null,
      "id": "ddf9cf5e",
      "metadata": {
        "id": "ddf9cf5e",
        "outputId": "fc872e62-f3c1-432b-db9e-27e1b4a332cc"
      },
      "outputs": [
        {
          "name": "stdout",
          "output_type": "stream",
          "text": [
            "[0 1 2 3 4 5 6 7 8 9]\n"
          ]
        }
      ],
      "source": [
        "#create array with range of values\n",
        "n6 = np.arange(10)\n",
        "print(n6)"
      ]
    },
    {
      "cell_type": "code",
      "execution_count": null,
      "id": "a429f1e5",
      "metadata": {
        "id": "a429f1e5",
        "outputId": "1a4f7ed5-7319-4a89-b23d-e358f3b96333"
      },
      "outputs": [
        {
          "name": "stdout",
          "output_type": "stream",
          "text": [
            "[-5  0  5 10 15 20 25]\n"
          ]
        }
      ],
      "source": [
        "n7 = np.arange(-5,30,5) #start,stop,step\n",
        "print(n7)"
      ]
    },
    {
      "cell_type": "code",
      "execution_count": null,
      "id": "2ababc76",
      "metadata": {
        "id": "2ababc76",
        "outputId": "cfce701c-80c0-472c-b01c-a4a1c50bb178"
      },
      "outputs": [
        {
          "name": "stdout",
          "output_type": "stream",
          "text": [
            "[ 0.          2.85714286  5.71428571  8.57142857 11.42857143 14.28571429\n",
            " 17.14285714 20.        ]\n"
          ]
        }
      ],
      "source": [
        "#linearly spaced entries\n",
        "n8 = np.linspace(0,20,num=8)\n",
        "print(n8)"
      ]
    },
    {
      "cell_type": "code",
      "execution_count": null,
      "id": "9d4684dc",
      "metadata": {
        "id": "9d4684dc",
        "outputId": "564db9af-866d-46d5-aeca-4c3f66e3d293"
      },
      "outputs": [
        {
          "name": "stdout",
          "output_type": "stream",
          "text": [
            "[[99 99 99 99 99]\n",
            " [99 99 99 99 99]]\n"
          ]
        }
      ],
      "source": [
        "n9 = np.full([2,5],99) #create by specifying dimension and fill with values\n",
        "print(n9)"
      ]
    },
    {
      "cell_type": "code",
      "execution_count": null,
      "id": "d917df54",
      "metadata": {
        "id": "d917df54",
        "outputId": "87f41b8e-2a8d-468f-ca4b-7d97adbabe8d"
      },
      "outputs": [
        {
          "name": "stdout",
          "output_type": "stream",
          "text": [
            "[[9. 9. 9.]]\n"
          ]
        }
      ],
      "source": [
        "n5.fill(9) #fill an array with values\n",
        "print(n5)"
      ]
    },
    {
      "cell_type": "markdown",
      "id": "c9adad9a",
      "metadata": {
        "id": "c9adad9a"
      },
      "source": [
        "# Accessing"
      ]
    },
    {
      "cell_type": "code",
      "execution_count": null,
      "id": "199bfd5b",
      "metadata": {
        "id": "199bfd5b",
        "outputId": "737d4335-fd03-4afb-e3c0-b13510963e5e"
      },
      "outputs": [
        {
          "name": "stdout",
          "output_type": "stream",
          "text": [
            "3\n"
          ]
        }
      ],
      "source": [
        "print(n1[0])"
      ]
    },
    {
      "cell_type": "code",
      "execution_count": null,
      "id": "4f5ea133",
      "metadata": {
        "id": "4f5ea133",
        "outputId": "faacdedb-207d-4fbf-8e4d-96dfadb53f54"
      },
      "outputs": [
        {
          "name": "stdout",
          "output_type": "stream",
          "text": [
            "6\n"
          ]
        }
      ],
      "source": [
        "print(n1[-1])"
      ]
    },
    {
      "cell_type": "code",
      "execution_count": null,
      "id": "fa3c8e55",
      "metadata": {
        "id": "fa3c8e55",
        "outputId": "cddec7a2-6f88-4e0e-f0e4-68753c8284cd"
      },
      "outputs": [
        {
          "name": "stdout",
          "output_type": "stream",
          "text": [
            "4\n"
          ]
        }
      ],
      "source": [
        "print(n2[1,0])"
      ]
    },
    {
      "cell_type": "code",
      "execution_count": null,
      "id": "af82fb3e",
      "metadata": {
        "id": "af82fb3e",
        "outputId": "14b97210-087a-4688-896f-12b5fbd8caa8"
      },
      "outputs": [
        {
          "name": "stdout",
          "output_type": "stream",
          "text": [
            "[4 5 6 7]\n"
          ]
        }
      ],
      "source": [
        "print(n2[1,:])"
      ]
    },
    {
      "cell_type": "code",
      "execution_count": null,
      "id": "f3e27362",
      "metadata": {
        "id": "f3e27362",
        "outputId": "24a50a0d-f785-44c5-ca13-2b92c5937213"
      },
      "outputs": [
        {
          "name": "stdout",
          "output_type": "stream",
          "text": [
            "[7 7]\n"
          ]
        }
      ],
      "source": [
        "print(n2[:,3])"
      ]
    },
    {
      "cell_type": "code",
      "execution_count": null,
      "id": "d9a8cd52",
      "metadata": {
        "id": "d9a8cd52",
        "outputId": "548255bb-ac46-411a-95e8-989614073ba8"
      },
      "outputs": [
        {
          "name": "stdout",
          "output_type": "stream",
          "text": [
            "[[[ 1  1  1]\n",
            "  [ 1  1  1]\n",
            "  [ 1  1  1]]\n",
            "\n",
            " [[ 1  1  1]\n",
            "  [ 1  1 10]\n",
            "  [ 1  1  1]]]\n"
          ]
        }
      ],
      "source": [
        "n4[1,1,2] = 10\n",
        "print(n4)"
      ]
    },
    {
      "cell_type": "markdown",
      "id": "a6a14f07",
      "metadata": {
        "id": "a6a14f07"
      },
      "source": [
        "# Size and Shape"
      ]
    },
    {
      "cell_type": "code",
      "execution_count": null,
      "id": "722dd3e2",
      "metadata": {
        "id": "722dd3e2",
        "outputId": "16de3b17-2232-48fc-e86e-83e56a7173dd"
      },
      "outputs": [
        {
          "name": "stdout",
          "output_type": "stream",
          "text": [
            "3\n"
          ]
        }
      ],
      "source": [
        "print(n4.ndim) #ndim gives number of dimensions or axes"
      ]
    },
    {
      "cell_type": "code",
      "execution_count": null,
      "id": "7a7ad81b",
      "metadata": {
        "id": "7a7ad81b",
        "outputId": "63641f82-ffb2-4ecd-ca3b-81cba292a978"
      },
      "outputs": [
        {
          "name": "stdout",
          "output_type": "stream",
          "text": [
            "(2, 3, 3)\n"
          ]
        }
      ],
      "source": [
        "print(n4.shape)"
      ]
    },
    {
      "cell_type": "code",
      "execution_count": null,
      "id": "248e28f1",
      "metadata": {
        "id": "248e28f1",
        "outputId": "66f6ee9c-c632-4e82-b1ee-f57d1eb94dc3"
      },
      "outputs": [
        {
          "name": "stdout",
          "output_type": "stream",
          "text": [
            "18\n"
          ]
        }
      ],
      "source": [
        "print(n4.size)"
      ]
    },
    {
      "cell_type": "code",
      "execution_count": null,
      "id": "056ad326",
      "metadata": {
        "id": "056ad326",
        "outputId": "69b14dbb-adc4-44a5-801b-0a9f5fbdd11e"
      },
      "outputs": [
        {
          "name": "stdout",
          "output_type": "stream",
          "text": [
            "int32\n"
          ]
        }
      ],
      "source": [
        "print(n4.dtype)"
      ]
    },
    {
      "cell_type": "code",
      "execution_count": null,
      "id": "9e4083b3",
      "metadata": {
        "id": "9e4083b3",
        "outputId": "bc6507f9-6a8a-47d6-9337-81d25486b4d8"
      },
      "outputs": [
        {
          "name": "stdout",
          "output_type": "stream",
          "text": [
            "4\n"
          ]
        }
      ],
      "source": [
        "print(n4.itemsize)"
      ]
    },
    {
      "cell_type": "code",
      "execution_count": null,
      "id": "ea950b1c",
      "metadata": {
        "id": "ea950b1c",
        "outputId": "30501a72-78d5-4225-d613-b4005683d4f3"
      },
      "outputs": [
        {
          "name": "stdout",
          "output_type": "stream",
          "text": [
            "72\n"
          ]
        }
      ],
      "source": [
        "print(n4.nbytes)"
      ]
    },
    {
      "cell_type": "markdown",
      "id": "a2907d14",
      "metadata": {
        "id": "a2907d14"
      },
      "source": [
        "# Sorting"
      ]
    },
    {
      "cell_type": "code",
      "execution_count": null,
      "id": "3d485dc6",
      "metadata": {
        "id": "3d485dc6",
        "outputId": "1ce01d8c-059d-4b29-a45b-11e253242c84"
      },
      "outputs": [
        {
          "data": {
            "text/plain": [
              "array([ 1,  3,  4,  5,  7,  8,  9, 10])"
            ]
          },
          "execution_count": 24,
          "metadata": {},
          "output_type": "execute_result"
        }
      ],
      "source": [
        "n10 = np.array([3,4,1,9,5,10,8,7])\n",
        "np.sort(n10)"
      ]
    },
    {
      "cell_type": "code",
      "execution_count": null,
      "id": "33b88604",
      "metadata": {
        "id": "33b88604",
        "outputId": "d408b332-5740-43aa-a466-0d18cf84bf31"
      },
      "outputs": [
        {
          "data": {
            "text/plain": [
              "array([[ 2,  6,  7],\n",
              "       [ 1,  5, 10]])"
            ]
          },
          "execution_count": 25,
          "metadata": {},
          "output_type": "execute_result"
        }
      ],
      "source": [
        "n11 = np.array([[6, 2, 7], [5, 10, 1]])\n",
        "np.sort(n11) #default is axis=-1 which is the last axis"
      ]
    },
    {
      "cell_type": "code",
      "execution_count": null,
      "id": "f4527d86",
      "metadata": {
        "id": "f4527d86",
        "outputId": "20466a21-0050-42a2-ef22-21175db97506"
      },
      "outputs": [
        {
          "data": {
            "text/plain": [
              "array([[ 5,  2,  1],\n",
              "       [ 6, 10,  7]])"
            ]
          },
          "execution_count": 26,
          "metadata": {},
          "output_type": "execute_result"
        }
      ],
      "source": [
        "np.sort(n11,axis=0)"
      ]
    },
    {
      "cell_type": "code",
      "execution_count": null,
      "id": "d9c6910f",
      "metadata": {
        "id": "d9c6910f",
        "outputId": "4b331591-60ce-4a8f-f310-a3d54671168b"
      },
      "outputs": [
        {
          "data": {
            "text/plain": [
              "array([[ 2,  6,  7],\n",
              "       [ 1,  5, 10]])"
            ]
          },
          "execution_count": 27,
          "metadata": {},
          "output_type": "execute_result"
        }
      ],
      "source": [
        "np.sort(n11,axis=1)"
      ]
    },
    {
      "cell_type": "markdown",
      "id": "dd4b7ca4",
      "metadata": {
        "id": "dd4b7ca4"
      },
      "source": [
        "# Reshaping and Array Conversions"
      ]
    },
    {
      "cell_type": "code",
      "execution_count": null,
      "id": "b724b595",
      "metadata": {
        "id": "b724b595",
        "outputId": "cca3108d-5ee9-4e37-9740-78e0969241c5"
      },
      "outputs": [
        {
          "name": "stdout",
          "output_type": "stream",
          "text": [
            "[[ 3  4  1  9]\n",
            " [ 5 10  8  7]]\n"
          ]
        }
      ],
      "source": [
        "n12 = n10.reshape(2,4)\n",
        "print(n12)"
      ]
    },
    {
      "cell_type": "code",
      "execution_count": null,
      "id": "728911f9",
      "metadata": {
        "id": "728911f9",
        "outputId": "54c2a154-3b61-4faa-e34c-b1f006194cf4"
      },
      "outputs": [
        {
          "name": "stdout",
          "output_type": "stream",
          "text": [
            "[0 1 2 3]\n",
            "[5 6 7 8]\n",
            "[0 1 2 3 5 6 7 8]\n"
          ]
        }
      ],
      "source": [
        "#Joining 2 arrays using concatenate\n",
        "n13 = np.arange(4)\n",
        "print(n13)\n",
        "n14 = np.arange(5,9)\n",
        "print(n14)\n",
        "n15 = np.concatenate((n13,n14))\n",
        "print(n15)"
      ]
    },
    {
      "cell_type": "code",
      "execution_count": null,
      "id": "b897df04",
      "metadata": {
        "id": "b897df04",
        "outputId": "4fb13679-a06f-4d64-ed30-575d912ed56b"
      },
      "outputs": [
        {
          "name": "stdout",
          "output_type": "stream",
          "text": [
            "[0 1 2 3 4 5 6 7]\n",
            "[[0 1 2 3 4 5 6 7]]\n",
            "(1, 8)\n",
            "[[0]\n",
            " [1]\n",
            " [2]\n",
            " [3]\n",
            " [4]\n",
            " [5]\n",
            " [6]\n",
            " [7]]\n",
            "(8, 1)\n"
          ]
        }
      ],
      "source": [
        "#converting 1d array to 2d array\n",
        "n16 = np.arange(8)\n",
        "print(n16)\n",
        "n17 = n16[np.newaxis,:]\n",
        "print(n17)\n",
        "print(n17.shape)\n",
        "n18 = n16[:,np.newaxis]\n",
        "print(n18)\n",
        "print(n18.shape)"
      ]
    },
    {
      "cell_type": "code",
      "execution_count": null,
      "id": "b692d3dc",
      "metadata": {
        "id": "b692d3dc",
        "outputId": "670c35e4-2a08-43e5-9376-e09abff1c686"
      },
      "outputs": [
        {
          "name": "stdout",
          "output_type": "stream",
          "text": [
            "[[0]\n",
            " [1]\n",
            " [2]\n",
            " [3]\n",
            " [4]\n",
            " [5]\n",
            " [6]\n",
            " [7]]\n"
          ]
        }
      ],
      "source": [
        "n19 = np.expand_dims(n16,axis = 1)\n",
        "print(n19)"
      ]
    },
    {
      "cell_type": "code",
      "execution_count": null,
      "id": "6a250bcb",
      "metadata": {
        "id": "6a250bcb",
        "outputId": "dc7151c5-ff56-4e12-c9c1-1027be176ad2"
      },
      "outputs": [
        {
          "name": "stdout",
          "output_type": "stream",
          "text": [
            "[[0 1 2 3 4 5 6 7]]\n"
          ]
        }
      ],
      "source": [
        "n20 = np.expand_dims(n16,axis = 0)\n",
        "print(n20)"
      ]
    },
    {
      "cell_type": "markdown",
      "id": "f0653092",
      "metadata": {
        "id": "f0653092"
      },
      "source": [
        "# Indexing and slicing"
      ]
    },
    {
      "cell_type": "code",
      "execution_count": null,
      "id": "18edd4c4",
      "metadata": {
        "id": "18edd4c4",
        "outputId": "a855befa-a25d-4cda-fdbd-48c7805d7cb5"
      },
      "outputs": [
        {
          "name": "stdout",
          "output_type": "stream",
          "text": [
            "[0 1 2 3 4 5 6 7 8 9]\n",
            "[0 1 2 3 4]\n"
          ]
        }
      ],
      "source": [
        "n21 = np.arange(10)\n",
        "print(n21)\n",
        "print(n21[n21<5])"
      ]
    },
    {
      "cell_type": "code",
      "execution_count": null,
      "id": "7a5c366c",
      "metadata": {
        "id": "7a5c366c",
        "outputId": "a874d42d-ba18-4209-9b24-45371bfac268"
      },
      "outputs": [
        {
          "name": "stdout",
          "output_type": "stream",
          "text": [
            "[4 5 6 7]\n"
          ]
        }
      ],
      "source": [
        "print(n21[(n21>3) & (n21<8)])"
      ]
    },
    {
      "cell_type": "code",
      "execution_count": null,
      "id": "e6b572f1",
      "metadata": {
        "id": "e6b572f1",
        "outputId": "1e9fec26-76d0-4548-c7ea-02a8558b53aa"
      },
      "outputs": [
        {
          "name": "stdout",
          "output_type": "stream",
          "text": [
            "[False False False False False False  True  True  True  True]\n",
            "[6 7 8 9]\n"
          ]
        }
      ],
      "source": [
        "five_up = n21>5\n",
        "print(five_up)\n",
        "print(n21[five_up])"
      ]
    },
    {
      "cell_type": "code",
      "execution_count": null,
      "id": "a663d9f3",
      "metadata": {
        "id": "a663d9f3",
        "outputId": "fb688921-d8f5-4ef4-a238-81607cbfa503"
      },
      "outputs": [
        {
          "name": "stdout",
          "output_type": "stream",
          "text": [
            "(array([6, 7, 8, 9], dtype=int64),)\n"
          ]
        }
      ],
      "source": [
        "n21[6] = 100\n",
        "print(np.nonzero(n21>5))"
      ]
    },
    {
      "cell_type": "code",
      "execution_count": null,
      "id": "8b30ab70",
      "metadata": {
        "id": "8b30ab70",
        "outputId": "0513c655-5590-434a-8a8a-0c6987da03b1"
      },
      "outputs": [
        {
          "name": "stdout",
          "output_type": "stream",
          "text": [
            "[  3   4   5 100]\n"
          ]
        }
      ],
      "source": [
        "print(n21[3:7])"
      ]
    },
    {
      "cell_type": "markdown",
      "id": "8ae12ec4",
      "metadata": {
        "id": "8ae12ec4"
      },
      "source": [
        "# Stack, Split"
      ]
    },
    {
      "cell_type": "code",
      "execution_count": null,
      "id": "fef19ccc",
      "metadata": {
        "id": "fef19ccc",
        "outputId": "c4d82b85-4ac6-413b-cb5e-3aa42323e67c"
      },
      "outputs": [
        {
          "data": {
            "text/plain": [
              "array([[1, 2, 5, 6],\n",
              "       [3, 4, 7, 8]])"
            ]
          },
          "execution_count": 40,
          "metadata": {},
          "output_type": "execute_result"
        }
      ],
      "source": [
        "n22 = np.array([[1,2],[3,4]])\n",
        "n23 = np.array([[5,6],[7,8]])\n",
        "np.hstack((n22,n23))"
      ]
    },
    {
      "cell_type": "code",
      "execution_count": null,
      "id": "353a3fc5",
      "metadata": {
        "id": "353a3fc5",
        "outputId": "69b89b52-d312-4004-fbe4-ef754a8ce8b7"
      },
      "outputs": [
        {
          "data": {
            "text/plain": [
              "array([[1, 2],\n",
              "       [3, 4],\n",
              "       [5, 6],\n",
              "       [7, 8]])"
            ]
          },
          "execution_count": 43,
          "metadata": {},
          "output_type": "execute_result"
        }
      ],
      "source": [
        "np.vstack((n22,n23))"
      ]
    },
    {
      "cell_type": "code",
      "execution_count": null,
      "id": "9a1baf2c",
      "metadata": {
        "id": "9a1baf2c",
        "outputId": "82f6bf92-3a3d-466c-f4c9-4d66cfde16ba"
      },
      "outputs": [
        {
          "name": "stdout",
          "output_type": "stream",
          "text": [
            "[ 0  1  2  3  4  5  6  7  8  9 10 11 12 13 14 15 16 17 18 19]\n"
          ]
        },
        {
          "data": {
            "text/plain": [
              "[array([0, 1, 2, 3, 4]),\n",
              " array([5, 6, 7, 8, 9]),\n",
              " array([10, 11, 12, 13, 14]),\n",
              " array([15, 16, 17, 18, 19])]"
            ]
          },
          "execution_count": 51,
          "metadata": {},
          "output_type": "execute_result"
        }
      ],
      "source": [
        "n24 = np.arange(20)\n",
        "print(n24)\n",
        "np.hsplit(n24,4)"
      ]
    },
    {
      "cell_type": "markdown",
      "id": "cf58617d",
      "metadata": {
        "id": "cf58617d"
      },
      "source": [
        "# Copy"
      ]
    },
    {
      "cell_type": "code",
      "execution_count": null,
      "id": "24374c6c",
      "metadata": {
        "id": "24374c6c",
        "outputId": "edf6df42-708b-4a57-c4bd-398594e0bac0"
      },
      "outputs": [
        {
          "name": "stdout",
          "output_type": "stream",
          "text": [
            "[100   1   2   3   4   5   6   7   8   9  10  11  12  13  14  15  16  17\n",
            "  18  19]\n",
            "[100   1   2   3   4]\n"
          ]
        }
      ],
      "source": [
        "n25 = n24[0:5] # shallow copy\n",
        "n24[0] = 100\n",
        "print(n24)\n",
        "print(n25)"
      ]
    },
    {
      "cell_type": "code",
      "execution_count": null,
      "id": "cd223516",
      "metadata": {
        "id": "cd223516",
        "outputId": "f9091348-ab3c-4228-924c-a5fe7a86a7f7"
      },
      "outputs": [
        {
          "name": "stdout",
          "output_type": "stream",
          "text": [
            "[100 200   2   3   4   5   6   7   8   9  10  11  12  13  14  15  16  17\n",
            "  18  19]\n",
            "[100 200   2   3   4   5   6   7   8   9  10  11  12  13  14  15  16  17\n",
            "  18  19]\n"
          ]
        }
      ],
      "source": [
        "#deep copy\n",
        "n26 = n24.copy()\n",
        "n24[1]= 200\n",
        "print(n24)\n",
        "print(n26)"
      ]
    },
    {
      "cell_type": "markdown",
      "id": "be2f82e2",
      "metadata": {
        "id": "be2f82e2"
      },
      "source": [
        "# Math"
      ]
    },
    {
      "cell_type": "code",
      "execution_count": null,
      "id": "7ae487b4",
      "metadata": {
        "id": "7ae487b4",
        "outputId": "577c3218-d443-417e-8ed3-5db73b99c6bd"
      },
      "outputs": [
        {
          "name": "stdout",
          "output_type": "stream",
          "text": [
            "[[1 2]\n",
            " [3 4]]\n",
            "[[5 6]\n",
            " [7 8]]\n",
            "[[ 6  8]\n",
            " [10 12]]\n",
            "[[25 36]\n",
            " [49 64]]\n"
          ]
        }
      ],
      "source": [
        "print(n22)\n",
        "print(n23)\n",
        "print(n22+n23)\n",
        "print(n23*n23)"
      ]
    },
    {
      "cell_type": "code",
      "execution_count": null,
      "id": "301f4354",
      "metadata": {
        "id": "301f4354",
        "outputId": "00278960-8de2-4a73-f00a-c40003fa98af"
      },
      "outputs": [
        {
          "name": "stdout",
          "output_type": "stream",
          "text": [
            "[100 200   2   3   4   5   6   7   8   9  10  11  12  13  14  15  16  17\n",
            "  18  19]\n",
            "489\n",
            "200\n",
            "2\n",
            "[1000 2000   20   30   40   50   60   70   80   90  100  110  120  130\n",
            "  140  150  160  170  180  190]\n"
          ]
        }
      ],
      "source": [
        "print(n26)\n",
        "print(n26.sum())\n",
        "print(n26.max())\n",
        "print(n26.min())\n",
        "print(n26*10)"
      ]
    },
    {
      "cell_type": "code",
      "execution_count": null,
      "id": "12b45931",
      "metadata": {
        "id": "12b45931",
        "outputId": "b2700cea-ef02-4d0d-e9c8-9545ef2aa914"
      },
      "outputs": [
        {
          "name": "stdout",
          "output_type": "stream",
          "text": [
            "[ 0.86231887  0.48718768 -0.41614684 -0.9899925  -0.65364362  0.28366219\n",
            "  0.96017029  0.75390225 -0.14550003 -0.91113026 -0.83907153  0.0044257\n",
            "  0.84385396  0.90744678  0.13673722 -0.75968791 -0.95765948 -0.27516334\n",
            "  0.66031671  0.98870462]\n"
          ]
        }
      ],
      "source": [
        "print(np.cos(n26))"
      ]
    },
    {
      "cell_type": "markdown",
      "id": "85b2d40e",
      "metadata": {
        "id": "85b2d40e"
      },
      "source": [
        "# Random Numbers"
      ]
    },
    {
      "cell_type": "code",
      "execution_count": null,
      "id": "b02dec74",
      "metadata": {
        "id": "b02dec74",
        "outputId": "469065db-f5c5-4620-cad3-3bee130a2db8"
      },
      "outputs": [
        {
          "data": {
            "text/plain": [
              "array([[0.6756754 , 0.58657492, 0.42845491],\n",
              "       [0.48703211, 0.25432168, 0.89789337],\n",
              "       [0.65050801, 0.58615413, 0.57901873]])"
            ]
          },
          "execution_count": 79,
          "metadata": {},
          "output_type": "execute_result"
        }
      ],
      "source": [
        "np.random.rand(3,3)"
      ]
    },
    {
      "cell_type": "code",
      "execution_count": null,
      "id": "e7e9f926",
      "metadata": {
        "id": "e7e9f926",
        "outputId": "49c7b10b-497e-4aa1-b554-6d99b8bf8af9"
      },
      "outputs": [
        {
          "data": {
            "text/plain": [
              "array([[65, 82],\n",
              "       [89, 38],\n",
              "       [39, 56],\n",
              "       [98, 76]])"
            ]
          },
          "execution_count": 83,
          "metadata": {},
          "output_type": "execute_result"
        }
      ],
      "source": [
        "np.random.randint(100,size=(4,2))"
      ]
    }
  ],
  "metadata": {
    "kernelspec": {
      "display_name": "Python 3 (ipykernel)",
      "language": "python",
      "name": "python3"
    },
    "language_info": {
      "codemirror_mode": {
        "name": "ipython",
        "version": 3
      },
      "file_extension": ".py",
      "mimetype": "text/x-python",
      "name": "python",
      "nbconvert_exporter": "python",
      "pygments_lexer": "ipython3",
      "version": "3.8.2"
    },
    "colab": {
      "provenance": []
    }
  },
  "nbformat": 4,
  "nbformat_minor": 5
}